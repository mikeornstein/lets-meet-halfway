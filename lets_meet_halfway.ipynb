{
  "nbformat": 4,
  "nbformat_minor": 0,
  "metadata": {
    "colab": {
      "provenance": [],
      "authorship_tag": "ABX9TyONzECYWe7tUJGQvZsqjvQd",
      "include_colab_link": true
    },
    "kernelspec": {
      "name": "python3",
      "display_name": "Python 3"
    },
    "language_info": {
      "name": "python"
    }
  },
  "cells": [
    {
      "cell_type": "markdown",
      "metadata": {
        "id": "view-in-github",
        "colab_type": "text"
      },
      "source": [
        "<a href=\"https://colab.research.google.com/github/mikeornstein/lets-meet-halfway/blob/main/lets_meet_halfway.ipynb\" target=\"_parent\"><img src=\"https://colab.research.google.com/assets/colab-badge.svg\" alt=\"Open In Colab\"/></a>"
      ]
    },
    {
      "cell_type": "code",
      "source": [
        "# !pip install descartes\n",
        "# !pip install openrouteservice\n"
      ],
      "metadata": {
        "colab": {
          "base_uri": "https://localhost:8080/"
        },
        "id": "4yvqIIqrDhjr",
        "outputId": "6319aa38-2bd1-4759-e689-78e54f8a7630"
      },
      "execution_count": 15,
      "outputs": [
        {
          "output_type": "stream",
          "name": "stdout",
          "text": [
            "Collecting openrouteservice\n",
            "  Downloading openrouteservice-2.3.3-py3-none-any.whl (33 kB)\n",
            "Requirement already satisfied: requests>=2.0 in /usr/local/lib/python3.10/dist-packages (from openrouteservice) (2.31.0)\n",
            "Requirement already satisfied: charset-normalizer<4,>=2 in /usr/local/lib/python3.10/dist-packages (from requests>=2.0->openrouteservice) (3.3.2)\n",
            "Requirement already satisfied: idna<4,>=2.5 in /usr/local/lib/python3.10/dist-packages (from requests>=2.0->openrouteservice) (3.6)\n",
            "Requirement already satisfied: urllib3<3,>=1.21.1 in /usr/local/lib/python3.10/dist-packages (from requests>=2.0->openrouteservice) (2.0.7)\n",
            "Requirement already satisfied: certifi>=2017.4.17 in /usr/local/lib/python3.10/dist-packages (from requests>=2.0->openrouteservice) (2024.2.2)\n",
            "Installing collected packages: openrouteservice\n",
            "Successfully installed openrouteservice-2.3.3\n"
          ]
        }
      ]
    },
    {
      "cell_type": "code",
      "execution_count": 28,
      "metadata": {
        "id": "NsQV_LThAldp"
      },
      "outputs": [],
      "source": [
        "import requests\n",
        "import matplotlib.pyplot as plt\n",
        "from shapely.geometry import Polygon, mapping, GeometryCollection, LineString\n",
        "from descartes import PolygonPatch\n",
        "from google.colab import userdata\n",
        "\n",
        "# Define your API key for Open Route Service\n",
        "API_KEY = userdata.get('secretORS')\n",
        "\n",
        "# Define function to make request to Open Route Service API and get isochrone\n",
        "def get_isochrone(location, range_values):\n",
        "    url = f\"https://api.openrouteservice.org/v2/isochrones/driving-car\"\n",
        "    headers = {\"Authorization\": f\"Bearer {API_KEY}\"}\n",
        "    params = {\n",
        "        \"locations\": [location],\n",
        "        \"range\": range_values,\n",
        "        \"interval\": 600,\n",
        "        \"units\": \"m\",\n",
        "    }\n",
        "    response = requests.post(url, json=params, headers=headers)\n",
        "    if response.status_code == 200:\n",
        "        return response.json()\n",
        "    else:\n",
        "        print(\"Error:\", response.text)\n",
        "        return None\n",
        "\n",
        "# Define function to plot isochrone\n",
        "def plot_isochrone(location, isochrone):\n",
        "    plt.figure(figsize=(8, 8))\n",
        "    ax = plt.gca()\n",
        "\n",
        "    for feature in isochrone['features']:\n",
        "        polygon = Polygon(feature['geometry']['coordinates'][0])\n",
        "        patch = PolygonPatch(polygon, edgecolor='blue', facecolor='blue', alpha=0.3)\n",
        "        ax.add_patch(patch)\n",
        "\n",
        "    ax.set_aspect('equal')\n",
        "    plt.title(f'Isochrone around {location}')\n",
        "    plt.xlabel('Longitude')\n",
        "    plt.ylabel('Latitude')\n",
        "    plt.grid(True)\n",
        "    plt.show()\n",
        "\n",
        "def get_lat_lon_from_zip(zip_code):\n",
        "    url = f\"https://api.openrouteservice.org/geocode/search?API_KEY={API_KEY}&text={zip_code}\"\n",
        "    headers = {\"Accept\": \"application/json\"}\n",
        "    response = requests.get(url, headers=headers)\n",
        "    if response.status_code == 200:\n",
        "        data = response.json()\n",
        "        if data[\"features\"]:\n",
        "            lat = data[\"features\"][0][\"geometry\"][\"coordinates\"][1]\n",
        "            lon = data[\"features\"][0][\"geometry\"][\"coordinates\"][0]\n",
        "            return lat, lon\n",
        "        else:\n",
        "            print(\"No results found for the provided ZIP code.\")\n",
        "            return None\n",
        "    else:\n",
        "        print(\"Error:\", response.text)\n",
        "        return None"
      ]
    },
    {
      "cell_type": "code",
      "source": [],
      "metadata": {
        "id": "fISh2CofDahZ"
      },
      "execution_count": 2,
      "outputs": []
    },
    {
      "cell_type": "code",
      "source": [
        "# Define your locations\n",
        "zip_codes = [90232, 90640]\n",
        "zip_codes = [str(zip_code) for zip_code in zip_codes]\n",
        "locations = []\n",
        "isochrones =[]\n",
        "range_values = [300, 600, 900]  # for example, 5, 10, and 15 minutes\n",
        "\n",
        "for zip_code in zip_codes:\n",
        "  location = get_lat_lon_from_zip(zip_code)\n",
        "  print(location)\n",
        "  locations.append(location)\n",
        "  isochrone = get_isochrone(location, range_values)\n",
        "  isochrones.append(isochrone)\n",
        "  plot_isochrone(f\"{zip_code}, {location}:.3f\", isochrone)\n",
        "\n",
        "# Define the range values for isochrones (in seconds)\n",
        "\n"
      ],
      "metadata": {
        "colab": {
          "base_uri": "https://localhost:8080/",
          "height": 469
        },
        "id": "_7oSFW2FD-Xs",
        "outputId": "77945ce3-12ae-4385-f1c0-07b3ff90f08f"
      },
      "execution_count": 14,
      "outputs": [
        {
          "output_type": "stream",
          "name": "stdout",
          "text": [
            "Error: {\n",
            "    \"error\": \"Authorization field missing\"\n",
            "}\n",
            "None\n"
          ]
        },
        {
          "output_type": "error",
          "ename": "JSONDecodeError",
          "evalue": "Expecting value: line 1 column 1 (char 0)",
          "traceback": [
            "\u001b[0;31m---------------------------------------------------------------------------\u001b[0m",
            "\u001b[0;31mJSONDecodeError\u001b[0m                           Traceback (most recent call last)",
            "\u001b[0;32m/usr/local/lib/python3.10/dist-packages/requests/models.py\u001b[0m in \u001b[0;36mjson\u001b[0;34m(self, **kwargs)\u001b[0m\n\u001b[1;32m    970\u001b[0m         \u001b[0;32mtry\u001b[0m\u001b[0;34m:\u001b[0m\u001b[0;34m\u001b[0m\u001b[0;34m\u001b[0m\u001b[0m\n\u001b[0;32m--> 971\u001b[0;31m             \u001b[0;32mreturn\u001b[0m \u001b[0mcomplexjson\u001b[0m\u001b[0;34m.\u001b[0m\u001b[0mloads\u001b[0m\u001b[0;34m(\u001b[0m\u001b[0mself\u001b[0m\u001b[0;34m.\u001b[0m\u001b[0mtext\u001b[0m\u001b[0;34m,\u001b[0m \u001b[0;34m**\u001b[0m\u001b[0mkwargs\u001b[0m\u001b[0;34m)\u001b[0m\u001b[0;34m\u001b[0m\u001b[0;34m\u001b[0m\u001b[0m\n\u001b[0m\u001b[1;32m    972\u001b[0m         \u001b[0;32mexcept\u001b[0m \u001b[0mJSONDecodeError\u001b[0m \u001b[0;32mas\u001b[0m \u001b[0me\u001b[0m\u001b[0;34m:\u001b[0m\u001b[0;34m\u001b[0m\u001b[0;34m\u001b[0m\u001b[0m\n",
            "\u001b[0;32m/usr/lib/python3.10/json/__init__.py\u001b[0m in \u001b[0;36mloads\u001b[0;34m(s, cls, object_hook, parse_float, parse_int, parse_constant, object_pairs_hook, **kw)\u001b[0m\n\u001b[1;32m    345\u001b[0m             parse_constant is None and object_pairs_hook is None and not kw):\n\u001b[0;32m--> 346\u001b[0;31m         \u001b[0;32mreturn\u001b[0m \u001b[0m_default_decoder\u001b[0m\u001b[0;34m.\u001b[0m\u001b[0mdecode\u001b[0m\u001b[0;34m(\u001b[0m\u001b[0ms\u001b[0m\u001b[0;34m)\u001b[0m\u001b[0;34m\u001b[0m\u001b[0;34m\u001b[0m\u001b[0m\n\u001b[0m\u001b[1;32m    347\u001b[0m     \u001b[0;32mif\u001b[0m \u001b[0mcls\u001b[0m \u001b[0;32mis\u001b[0m \u001b[0;32mNone\u001b[0m\u001b[0;34m:\u001b[0m\u001b[0;34m\u001b[0m\u001b[0;34m\u001b[0m\u001b[0m\n",
            "\u001b[0;32m/usr/lib/python3.10/json/decoder.py\u001b[0m in \u001b[0;36mdecode\u001b[0;34m(self, s, _w)\u001b[0m\n\u001b[1;32m    336\u001b[0m         \"\"\"\n\u001b[0;32m--> 337\u001b[0;31m         \u001b[0mobj\u001b[0m\u001b[0;34m,\u001b[0m \u001b[0mend\u001b[0m \u001b[0;34m=\u001b[0m \u001b[0mself\u001b[0m\u001b[0;34m.\u001b[0m\u001b[0mraw_decode\u001b[0m\u001b[0;34m(\u001b[0m\u001b[0ms\u001b[0m\u001b[0;34m,\u001b[0m \u001b[0midx\u001b[0m\u001b[0;34m=\u001b[0m\u001b[0m_w\u001b[0m\u001b[0;34m(\u001b[0m\u001b[0ms\u001b[0m\u001b[0;34m,\u001b[0m \u001b[0;36m0\u001b[0m\u001b[0;34m)\u001b[0m\u001b[0;34m.\u001b[0m\u001b[0mend\u001b[0m\u001b[0;34m(\u001b[0m\u001b[0;34m)\u001b[0m\u001b[0;34m)\u001b[0m\u001b[0;34m\u001b[0m\u001b[0;34m\u001b[0m\u001b[0m\n\u001b[0m\u001b[1;32m    338\u001b[0m         \u001b[0mend\u001b[0m \u001b[0;34m=\u001b[0m \u001b[0m_w\u001b[0m\u001b[0;34m(\u001b[0m\u001b[0ms\u001b[0m\u001b[0;34m,\u001b[0m \u001b[0mend\u001b[0m\u001b[0;34m)\u001b[0m\u001b[0;34m.\u001b[0m\u001b[0mend\u001b[0m\u001b[0;34m(\u001b[0m\u001b[0;34m)\u001b[0m\u001b[0;34m\u001b[0m\u001b[0;34m\u001b[0m\u001b[0m\n",
            "\u001b[0;32m/usr/lib/python3.10/json/decoder.py\u001b[0m in \u001b[0;36mraw_decode\u001b[0;34m(self, s, idx)\u001b[0m\n\u001b[1;32m    354\u001b[0m         \u001b[0;32mexcept\u001b[0m \u001b[0mStopIteration\u001b[0m \u001b[0;32mas\u001b[0m \u001b[0merr\u001b[0m\u001b[0;34m:\u001b[0m\u001b[0;34m\u001b[0m\u001b[0;34m\u001b[0m\u001b[0m\n\u001b[0;32m--> 355\u001b[0;31m             \u001b[0;32mraise\u001b[0m \u001b[0mJSONDecodeError\u001b[0m\u001b[0;34m(\u001b[0m\u001b[0;34m\"Expecting value\"\u001b[0m\u001b[0;34m,\u001b[0m \u001b[0ms\u001b[0m\u001b[0;34m,\u001b[0m \u001b[0merr\u001b[0m\u001b[0;34m.\u001b[0m\u001b[0mvalue\u001b[0m\u001b[0;34m)\u001b[0m \u001b[0;32mfrom\u001b[0m \u001b[0;32mNone\u001b[0m\u001b[0;34m\u001b[0m\u001b[0;34m\u001b[0m\u001b[0m\n\u001b[0m\u001b[1;32m    356\u001b[0m         \u001b[0;32mreturn\u001b[0m \u001b[0mobj\u001b[0m\u001b[0;34m,\u001b[0m \u001b[0mend\u001b[0m\u001b[0;34m\u001b[0m\u001b[0;34m\u001b[0m\u001b[0m\n",
            "\u001b[0;31mJSONDecodeError\u001b[0m: Expecting value: line 1 column 1 (char 0)",
            "\nDuring handling of the above exception, another exception occurred:\n",
            "\u001b[0;31mJSONDecodeError\u001b[0m                           Traceback (most recent call last)",
            "\u001b[0;32m<ipython-input-14-07f0f90d7aac>\u001b[0m in \u001b[0;36m<cell line: 8>\u001b[0;34m()\u001b[0m\n\u001b[1;32m     10\u001b[0m   \u001b[0mprint\u001b[0m\u001b[0;34m(\u001b[0m\u001b[0mlocation\u001b[0m\u001b[0;34m)\u001b[0m\u001b[0;34m\u001b[0m\u001b[0;34m\u001b[0m\u001b[0m\n\u001b[1;32m     11\u001b[0m   \u001b[0mlocations\u001b[0m\u001b[0;34m.\u001b[0m\u001b[0mappend\u001b[0m\u001b[0;34m(\u001b[0m\u001b[0mlocation\u001b[0m\u001b[0;34m)\u001b[0m\u001b[0;34m\u001b[0m\u001b[0;34m\u001b[0m\u001b[0m\n\u001b[0;32m---> 12\u001b[0;31m   \u001b[0misochrone\u001b[0m \u001b[0;34m=\u001b[0m \u001b[0mget_isochrone\u001b[0m\u001b[0;34m(\u001b[0m\u001b[0mlocation\u001b[0m\u001b[0;34m,\u001b[0m \u001b[0mrange_values\u001b[0m\u001b[0;34m)\u001b[0m\u001b[0;34m\u001b[0m\u001b[0;34m\u001b[0m\u001b[0m\n\u001b[0m\u001b[1;32m     13\u001b[0m   \u001b[0misochrones\u001b[0m\u001b[0;34m.\u001b[0m\u001b[0mappend\u001b[0m\u001b[0;34m(\u001b[0m\u001b[0misochrone\u001b[0m\u001b[0;34m)\u001b[0m\u001b[0;34m\u001b[0m\u001b[0;34m\u001b[0m\u001b[0m\n\u001b[1;32m     14\u001b[0m   \u001b[0mplot_isochrone\u001b[0m\u001b[0;34m(\u001b[0m\u001b[0;34mf\"{zip_code}, {location}:.3f\"\u001b[0m\u001b[0;34m,\u001b[0m \u001b[0misochrone\u001b[0m\u001b[0;34m)\u001b[0m\u001b[0;34m\u001b[0m\u001b[0;34m\u001b[0m\u001b[0m\n",
            "\u001b[0;32m<ipython-input-2-fc2c28f3e59c>\u001b[0m in \u001b[0;36mget_isochrone\u001b[0;34m(location, range_values)\u001b[0m\n\u001b[1;32m     20\u001b[0m     \u001b[0mresponse\u001b[0m \u001b[0;34m=\u001b[0m \u001b[0mrequests\u001b[0m\u001b[0;34m.\u001b[0m\u001b[0mpost\u001b[0m\u001b[0;34m(\u001b[0m\u001b[0murl\u001b[0m\u001b[0;34m,\u001b[0m \u001b[0mjson\u001b[0m\u001b[0;34m=\u001b[0m\u001b[0mparams\u001b[0m\u001b[0;34m,\u001b[0m \u001b[0mheaders\u001b[0m\u001b[0;34m=\u001b[0m\u001b[0mheaders\u001b[0m\u001b[0;34m)\u001b[0m\u001b[0;34m\u001b[0m\u001b[0;34m\u001b[0m\u001b[0m\n\u001b[1;32m     21\u001b[0m     \u001b[0;32mif\u001b[0m \u001b[0mresponse\u001b[0m\u001b[0;34m.\u001b[0m\u001b[0mstatus_code\u001b[0m \u001b[0;34m==\u001b[0m \u001b[0;36m200\u001b[0m\u001b[0;34m:\u001b[0m\u001b[0;34m\u001b[0m\u001b[0;34m\u001b[0m\u001b[0m\n\u001b[0;32m---> 22\u001b[0;31m         \u001b[0;32mreturn\u001b[0m \u001b[0mresponse\u001b[0m\u001b[0;34m.\u001b[0m\u001b[0mjson\u001b[0m\u001b[0;34m(\u001b[0m\u001b[0;34m)\u001b[0m\u001b[0;34m\u001b[0m\u001b[0;34m\u001b[0m\u001b[0m\n\u001b[0m\u001b[1;32m     23\u001b[0m     \u001b[0;32melse\u001b[0m\u001b[0;34m:\u001b[0m\u001b[0;34m\u001b[0m\u001b[0;34m\u001b[0m\u001b[0m\n\u001b[1;32m     24\u001b[0m         \u001b[0mprint\u001b[0m\u001b[0;34m(\u001b[0m\u001b[0;34m\"Error:\"\u001b[0m\u001b[0;34m,\u001b[0m \u001b[0mresponse\u001b[0m\u001b[0;34m.\u001b[0m\u001b[0mtext\u001b[0m\u001b[0;34m)\u001b[0m\u001b[0;34m\u001b[0m\u001b[0;34m\u001b[0m\u001b[0m\n",
            "\u001b[0;32m/usr/local/lib/python3.10/dist-packages/requests/models.py\u001b[0m in \u001b[0;36mjson\u001b[0;34m(self, **kwargs)\u001b[0m\n\u001b[1;32m    973\u001b[0m             \u001b[0;31m# Catch JSON-related errors and raise as requests.JSONDecodeError\u001b[0m\u001b[0;34m\u001b[0m\u001b[0;34m\u001b[0m\u001b[0m\n\u001b[1;32m    974\u001b[0m             \u001b[0;31m# This aliases json.JSONDecodeError and simplejson.JSONDecodeError\u001b[0m\u001b[0;34m\u001b[0m\u001b[0;34m\u001b[0m\u001b[0m\n\u001b[0;32m--> 975\u001b[0;31m             \u001b[0;32mraise\u001b[0m \u001b[0mRequestsJSONDecodeError\u001b[0m\u001b[0;34m(\u001b[0m\u001b[0me\u001b[0m\u001b[0;34m.\u001b[0m\u001b[0mmsg\u001b[0m\u001b[0;34m,\u001b[0m \u001b[0me\u001b[0m\u001b[0;34m.\u001b[0m\u001b[0mdoc\u001b[0m\u001b[0;34m,\u001b[0m \u001b[0me\u001b[0m\u001b[0;34m.\u001b[0m\u001b[0mpos\u001b[0m\u001b[0;34m)\u001b[0m\u001b[0;34m\u001b[0m\u001b[0;34m\u001b[0m\u001b[0m\n\u001b[0m\u001b[1;32m    976\u001b[0m \u001b[0;34m\u001b[0m\u001b[0m\n\u001b[1;32m    977\u001b[0m     \u001b[0;34m@\u001b[0m\u001b[0mproperty\u001b[0m\u001b[0;34m\u001b[0m\u001b[0;34m\u001b[0m\u001b[0m\n",
            "\u001b[0;31mJSONDecodeError\u001b[0m: Expecting value: line 1 column 1 (char 0)"
          ]
        }
      ]
    },
    {
      "cell_type": "code",
      "source": [
        "import openrouteservice\n",
        "from openrouteservice.directions import directions\n",
        "from openrouteservice import convert\n",
        "\n",
        "coords = ((8.34234,48.23424),(8.34423,48.26424))\n",
        "\n",
        "client = openrouteservice.Client(key=API_KEY) # Specify your personal API key\n",
        "routes = directions(client, coords) # Now it shows you all arguments for .directions"
      ],
      "metadata": {
        "id": "llil8ODNHAwf"
      },
      "execution_count": 20,
      "outputs": []
    },
    {
      "cell_type": "code",
      "source": [
        "\n",
        "coords = ((8.34234,48.23424),(8.34423,48.26424))\\\n",
        "\n",
        "# decode_polyline needs the geometry only\n",
        "geometry = client.directions(coords)['routes'][0]['geometry']\n",
        "\n",
        "decoded = convert.decode_polyline(geometry)\n",
        "\n",
        "print(decoded)"
      ],
      "metadata": {
        "colab": {
          "base_uri": "https://localhost:8080/"
        },
        "id": "FbmLMrjKJ0Nn",
        "outputId": "b6524461-052d-47e1-da14-835babed2455"
      },
      "execution_count": 21,
      "outputs": [
        {
          "output_type": "stream",
          "name": "stdout",
          "text": [
            "{'type': 'LineString', 'coordinates': [[8.34427, 48.23383], [8.34415, 48.23351], [8.34395, 48.23314], [8.34385, 48.23305], [8.34332, 48.23274], [8.3431, 48.23247], [8.34286, 48.23231], [8.34271, 48.23224], [8.34233, 48.23216], [8.34184, 48.23203], [8.34171, 48.23195], [8.34052, 48.23236], [8.34036, 48.23243], [8.33994, 48.23281], [8.33942, 48.23321], [8.33926, 48.23347], [8.33922, 48.23359], [8.33922, 48.23372], [8.33941, 48.23434], [8.33941, 48.23448], [8.33935, 48.2346], [8.33925, 48.23472], [8.33898, 48.23493], [8.33882, 48.23502], [8.33849, 48.23517], [8.33839, 48.23526], [8.33832, 48.23537], [8.33823, 48.23577], [8.33818, 48.23589], [8.33811, 48.23597], [8.3379, 48.23612], [8.33725, 48.23651], [8.33706, 48.23667], [8.33671, 48.23707], [8.33613, 48.23777], [8.33603, 48.23795], [8.33598, 48.23812], [8.33596, 48.23821], [8.33597, 48.23882], [8.33592, 48.23924], [8.33588, 48.23938], [8.33583, 48.2395], [8.33572, 48.23964], [8.3354, 48.23997], [8.33518, 48.2403], [8.33512, 48.24044], [8.33511, 48.24059], [8.33517, 48.24092], [8.33517, 48.24099], [8.33509, 48.24111], [8.33488, 48.24127], [8.33366, 48.24204], [8.33351, 48.24216], [8.33322, 48.2426], [8.33311, 48.24272], [8.33298, 48.24284], [8.33284, 48.24293], [8.33248, 48.24309], [8.33239, 48.24316], [8.3323, 48.24327], [8.33224, 48.24339], [8.33212, 48.24382], [8.33199, 48.2441], [8.33178, 48.24447], [8.33168, 48.24458], [8.33176, 48.24471], [8.3318, 48.24478], [8.33194, 48.24485], [8.33296, 48.24523], [8.33349, 48.24536], [8.3338, 48.24551], [8.33422, 48.24577], [8.33434, 48.24587], [8.33442, 48.24598], [8.33393, 48.24631], [8.33371, 48.24657], [8.33362, 48.24664], [8.33305, 48.24685], [8.33289, 48.24696], [8.33274, 48.24709], [8.33246, 48.24736], [8.33239, 48.24745], [8.3323, 48.24759], [8.33229, 48.24771], [8.33232, 48.24783], [8.33246, 48.2481], [8.33233, 48.24814], [8.33127, 48.24854], [8.33056, 48.24891], [8.32924, 48.24951], [8.32899, 48.24965], [8.32876, 48.24982], [8.32856, 48.25002], [8.32835, 48.25034], [8.32811, 48.25073], [8.32799, 48.25103], [8.32784, 48.2515], [8.32773, 48.25194], [8.32772, 48.25205], [8.32775, 48.25216], [8.32794, 48.25256], [8.32801, 48.25276], [8.32808, 48.25309], [8.3281, 48.25342], [8.32821, 48.25369], [8.32923, 48.25391], [8.32963, 48.25405], [8.33009, 48.25416], [8.33037, 48.25431], [8.33068, 48.25452], [8.33078, 48.25463], [8.33107, 48.25507], [8.33115, 48.25515], [8.33152, 48.25544], [8.3317, 48.25571], [8.33178, 48.25594], [8.33179, 48.25616], [8.33173, 48.25678], [8.3316, 48.25733], [8.33214, 48.2579], [8.33245, 48.25832], [8.33269, 48.25878], [8.33268, 48.25929], [8.33272, 48.25944], [8.33277, 48.2595], [8.33283, 48.25957], [8.33299, 48.25965], [8.33363, 48.25982], [8.33387, 48.25992], [8.33402, 48.25997], [8.33476, 48.26024], [8.33494, 48.26033], [8.33555, 48.26071], [8.33565, 48.26083], [8.33575, 48.26099], [8.33578, 48.26132], [8.33623, 48.26162], [8.3371, 48.26189], [8.33752, 48.262], [8.33783, 48.26241], [8.3379, 48.26244], [8.33799, 48.26243], [8.33836, 48.26232], [8.33873, 48.26201], [8.33909, 48.26177], [8.33944, 48.26158], [8.3396, 48.26178], [8.33975, 48.26183], [8.33996, 48.26205], [8.34098, 48.26266], [8.34129, 48.26283], [8.3416, 48.26295], [8.3423, 48.26307], [8.34303, 48.26318], [8.34319, 48.26318], [8.34339, 48.26313], [8.3438, 48.26299], [8.344, 48.26297], [8.34423, 48.26301], [8.34463, 48.26314], [8.34499, 48.26317], [8.34524, 48.26324], [8.34407, 48.26321], [8.3439, 48.26323], [8.34348, 48.26353], [8.34343, 48.26355]]}\n"
          ]
        }
      ]
    },
    {
      "cell_type": "code",
      "source": [
        "import folium\n",
        "\n",
        "# Create a map centered at a specific location\n",
        "collection = GeometryCollection(LineString(decoded['coordinates']))\n",
        "center = collection.centroid\n",
        "m = None\n",
        "m = folium.Map(location=(center.y,center.x), zoom_start=14,\n",
        ")\n",
        "\n",
        "# Add a marker at a specific location\n",
        "folium.GeoJson(decoded).add_to(m)\n",
        "envelope = LineString(decoded['coordinates']).envelope\n",
        "corner1 = max(list(envelope.exterior.coords))\n",
        "corner2 = min(list(envelope.exterior.coords))\n",
        "# m.fit_bounds([corner2, corner1])\n",
        "\n",
        "# Display the map\n",
        "m"
      ],
      "metadata": {
        "colab": {
          "base_uri": "https://localhost:8080/",
          "height": 597
        },
        "id": "haezgXODJ4zq",
        "outputId": "6b3eafb7-606b-4de9-d29f-2b9cb525df72"
      },
      "execution_count": 116,
      "outputs": [
        {
          "output_type": "execute_result",
          "data": {
            "text/plain": [
              "<folium.folium.Map at 0x79ba32e35d20>"
            ],
            "text/html": [
              "<div style=\"width:100%;\"><div style=\"position:relative;width:100%;height:0;padding-bottom:60%;\"><span style=\"color:#565656\">Make this Notebook Trusted to load map: File -> Trust Notebook</span><iframe srcdoc=\"&lt;!DOCTYPE html&gt;\n",
              "&lt;html&gt;\n",
              "&lt;head&gt;\n",
              "    \n",
              "    &lt;meta http-equiv=&quot;content-type&quot; content=&quot;text/html; charset=UTF-8&quot; /&gt;\n",
              "    \n",
              "        &lt;script&gt;\n",
              "            L_NO_TOUCH = false;\n",
              "            L_DISABLE_3D = false;\n",
              "        &lt;/script&gt;\n",
              "    \n",
              "    &lt;style&gt;html, body {width: 100%;height: 100%;margin: 0;padding: 0;}&lt;/style&gt;\n",
              "    &lt;style&gt;#map {position:absolute;top:0;bottom:0;right:0;left:0;}&lt;/style&gt;\n",
              "    &lt;script src=&quot;https://cdn.jsdelivr.net/npm/leaflet@1.9.3/dist/leaflet.js&quot;&gt;&lt;/script&gt;\n",
              "    &lt;script src=&quot;https://code.jquery.com/jquery-1.12.4.min.js&quot;&gt;&lt;/script&gt;\n",
              "    &lt;script src=&quot;https://cdn.jsdelivr.net/npm/bootstrap@5.2.2/dist/js/bootstrap.bundle.min.js&quot;&gt;&lt;/script&gt;\n",
              "    &lt;script src=&quot;https://cdnjs.cloudflare.com/ajax/libs/Leaflet.awesome-markers/2.0.2/leaflet.awesome-markers.js&quot;&gt;&lt;/script&gt;\n",
              "    &lt;link rel=&quot;stylesheet&quot; href=&quot;https://cdn.jsdelivr.net/npm/leaflet@1.9.3/dist/leaflet.css&quot;/&gt;\n",
              "    &lt;link rel=&quot;stylesheet&quot; href=&quot;https://cdn.jsdelivr.net/npm/bootstrap@5.2.2/dist/css/bootstrap.min.css&quot;/&gt;\n",
              "    &lt;link rel=&quot;stylesheet&quot; href=&quot;https://netdna.bootstrapcdn.com/bootstrap/3.0.0/css/bootstrap.min.css&quot;/&gt;\n",
              "    &lt;link rel=&quot;stylesheet&quot; href=&quot;https://cdn.jsdelivr.net/npm/@fortawesome/fontawesome-free@6.2.0/css/all.min.css&quot;/&gt;\n",
              "    &lt;link rel=&quot;stylesheet&quot; href=&quot;https://cdnjs.cloudflare.com/ajax/libs/Leaflet.awesome-markers/2.0.2/leaflet.awesome-markers.css&quot;/&gt;\n",
              "    &lt;link rel=&quot;stylesheet&quot; href=&quot;https://cdn.jsdelivr.net/gh/python-visualization/folium/folium/templates/leaflet.awesome.rotate.min.css&quot;/&gt;\n",
              "    \n",
              "            &lt;meta name=&quot;viewport&quot; content=&quot;width=device-width,\n",
              "                initial-scale=1.0, maximum-scale=1.0, user-scalable=no&quot; /&gt;\n",
              "            &lt;style&gt;\n",
              "                #map_9a1baea8d2dd04bc727740dd3c12fbea {\n",
              "                    position: relative;\n",
              "                    width: 100.0%;\n",
              "                    height: 100.0%;\n",
              "                    left: 0.0%;\n",
              "                    top: 0.0%;\n",
              "                }\n",
              "                .leaflet-container { font-size: 1rem; }\n",
              "            &lt;/style&gt;\n",
              "        \n",
              "&lt;/head&gt;\n",
              "&lt;body&gt;\n",
              "    \n",
              "    \n",
              "            &lt;div class=&quot;folium-map&quot; id=&quot;map_9a1baea8d2dd04bc727740dd3c12fbea&quot; &gt;&lt;/div&gt;\n",
              "        \n",
              "&lt;/body&gt;\n",
              "&lt;script&gt;\n",
              "    \n",
              "    \n",
              "            var map_9a1baea8d2dd04bc727740dd3c12fbea = L.map(\n",
              "                &quot;map_9a1baea8d2dd04bc727740dd3c12fbea&quot;,\n",
              "                {\n",
              "                    center: [48.249252877065956, 8.335572648368327],\n",
              "                    crs: L.CRS.EPSG3857,\n",
              "                    zoom: 14,\n",
              "                    zoomControl: true,\n",
              "                    preferCanvas: false,\n",
              "                }\n",
              "            );\n",
              "\n",
              "            \n",
              "\n",
              "        \n",
              "    \n",
              "            var tile_layer_353d1342563d3dae0b0ea3ee9e7accb7 = L.tileLayer(\n",
              "                &quot;https://{s}.tile.openstreetmap.org/{z}/{x}/{y}.png&quot;,\n",
              "                {&quot;attribution&quot;: &quot;Data by \\u0026copy; \\u003ca target=\\&quot;_blank\\&quot; href=\\&quot;http://openstreetmap.org\\&quot;\\u003eOpenStreetMap\\u003c/a\\u003e, under \\u003ca target=\\&quot;_blank\\&quot; href=\\&quot;http://www.openstreetmap.org/copyright\\&quot;\\u003eODbL\\u003c/a\\u003e.&quot;, &quot;detectRetina&quot;: false, &quot;maxNativeZoom&quot;: 18, &quot;maxZoom&quot;: 18, &quot;minZoom&quot;: 0, &quot;noWrap&quot;: false, &quot;opacity&quot;: 1, &quot;subdomains&quot;: &quot;abc&quot;, &quot;tms&quot;: false}\n",
              "            ).addTo(map_9a1baea8d2dd04bc727740dd3c12fbea);\n",
              "        \n",
              "    \n",
              "\n",
              "        function geo_json_8493261a50f41e92d53322fcadba6edb_onEachFeature(feature, layer) {\n",
              "            layer.on({\n",
              "            });\n",
              "        };\n",
              "        var geo_json_8493261a50f41e92d53322fcadba6edb = L.geoJson(null, {\n",
              "                onEachFeature: geo_json_8493261a50f41e92d53322fcadba6edb_onEachFeature,\n",
              "            \n",
              "        });\n",
              "\n",
              "        function geo_json_8493261a50f41e92d53322fcadba6edb_add (data) {\n",
              "            geo_json_8493261a50f41e92d53322fcadba6edb\n",
              "                .addData(data)\n",
              "                .addTo(map_9a1baea8d2dd04bc727740dd3c12fbea);\n",
              "        }\n",
              "            geo_json_8493261a50f41e92d53322fcadba6edb_add({&quot;coordinates&quot;: [[8.34427, 48.23383], [8.34415, 48.23351], [8.34395, 48.23314], [8.34385, 48.23305], [8.34332, 48.23274], [8.3431, 48.23247], [8.34286, 48.23231], [8.34271, 48.23224], [8.34233, 48.23216], [8.34184, 48.23203], [8.34171, 48.23195], [8.34052, 48.23236], [8.34036, 48.23243], [8.33994, 48.23281], [8.33942, 48.23321], [8.33926, 48.23347], [8.33922, 48.23359], [8.33922, 48.23372], [8.33941, 48.23434], [8.33941, 48.23448], [8.33935, 48.2346], [8.33925, 48.23472], [8.33898, 48.23493], [8.33882, 48.23502], [8.33849, 48.23517], [8.33839, 48.23526], [8.33832, 48.23537], [8.33823, 48.23577], [8.33818, 48.23589], [8.33811, 48.23597], [8.3379, 48.23612], [8.33725, 48.23651], [8.33706, 48.23667], [8.33671, 48.23707], [8.33613, 48.23777], [8.33603, 48.23795], [8.33598, 48.23812], [8.33596, 48.23821], [8.33597, 48.23882], [8.33592, 48.23924], [8.33588, 48.23938], [8.33583, 48.2395], [8.33572, 48.23964], [8.3354, 48.23997], [8.33518, 48.2403], [8.33512, 48.24044], [8.33511, 48.24059], [8.33517, 48.24092], [8.33517, 48.24099], [8.33509, 48.24111], [8.33488, 48.24127], [8.33366, 48.24204], [8.33351, 48.24216], [8.33322, 48.2426], [8.33311, 48.24272], [8.33298, 48.24284], [8.33284, 48.24293], [8.33248, 48.24309], [8.33239, 48.24316], [8.3323, 48.24327], [8.33224, 48.24339], [8.33212, 48.24382], [8.33199, 48.2441], [8.33178, 48.24447], [8.33168, 48.24458], [8.33176, 48.24471], [8.3318, 48.24478], [8.33194, 48.24485], [8.33296, 48.24523], [8.33349, 48.24536], [8.3338, 48.24551], [8.33422, 48.24577], [8.33434, 48.24587], [8.33442, 48.24598], [8.33393, 48.24631], [8.33371, 48.24657], [8.33362, 48.24664], [8.33305, 48.24685], [8.33289, 48.24696], [8.33274, 48.24709], [8.33246, 48.24736], [8.33239, 48.24745], [8.3323, 48.24759], [8.33229, 48.24771], [8.33232, 48.24783], [8.33246, 48.2481], [8.33233, 48.24814], [8.33127, 48.24854], [8.33056, 48.24891], [8.32924, 48.24951], [8.32899, 48.24965], [8.32876, 48.24982], [8.32856, 48.25002], [8.32835, 48.25034], [8.32811, 48.25073], [8.32799, 48.25103], [8.32784, 48.2515], [8.32773, 48.25194], [8.32772, 48.25205], [8.32775, 48.25216], [8.32794, 48.25256], [8.32801, 48.25276], [8.32808, 48.25309], [8.3281, 48.25342], [8.32821, 48.25369], [8.32923, 48.25391], [8.32963, 48.25405], [8.33009, 48.25416], [8.33037, 48.25431], [8.33068, 48.25452], [8.33078, 48.25463], [8.33107, 48.25507], [8.33115, 48.25515], [8.33152, 48.25544], [8.3317, 48.25571], [8.33178, 48.25594], [8.33179, 48.25616], [8.33173, 48.25678], [8.3316, 48.25733], [8.33214, 48.2579], [8.33245, 48.25832], [8.33269, 48.25878], [8.33268, 48.25929], [8.33272, 48.25944], [8.33277, 48.2595], [8.33283, 48.25957], [8.33299, 48.25965], [8.33363, 48.25982], [8.33387, 48.25992], [8.33402, 48.25997], [8.33476, 48.26024], [8.33494, 48.26033], [8.33555, 48.26071], [8.33565, 48.26083], [8.33575, 48.26099], [8.33578, 48.26132], [8.33623, 48.26162], [8.3371, 48.26189], [8.33752, 48.262], [8.33783, 48.26241], [8.3379, 48.26244], [8.33799, 48.26243], [8.33836, 48.26232], [8.33873, 48.26201], [8.33909, 48.26177], [8.33944, 48.26158], [8.3396, 48.26178], [8.33975, 48.26183], [8.33996, 48.26205], [8.34098, 48.26266], [8.34129, 48.26283], [8.3416, 48.26295], [8.3423, 48.26307], [8.34303, 48.26318], [8.34319, 48.26318], [8.34339, 48.26313], [8.3438, 48.26299], [8.344, 48.26297], [8.34423, 48.26301], [8.34463, 48.26314], [8.34499, 48.26317], [8.34524, 48.26324], [8.34407, 48.26321], [8.3439, 48.26323], [8.34348, 48.26353], [8.34343, 48.26355]], &quot;type&quot;: &quot;LineString&quot;});\n",
              "\n",
              "        \n",
              "&lt;/script&gt;\n",
              "&lt;/html&gt;\" style=\"position:absolute;width:100%;height:100%;left:0;top:0;border:none !important;\" allowfullscreen webkitallowfullscreen mozallowfullscreen></iframe></div></div>"
            ]
          },
          "metadata": {},
          "execution_count": 116
        }
      ]
    },
    {
      "cell_type": "code",
      "source": [
        "envelope"
      ],
      "metadata": {
        "colab": {
          "base_uri": "https://localhost:8080/",
          "height": 121
        },
        "id": "CEIqsndZKpwS",
        "outputId": "a2f3b6c0-5f02-4a1e-ca85-c769f90fdb87"
      },
      "execution_count": 92,
      "outputs": [
        {
          "output_type": "execute_result",
          "data": {
            "text/plain": [
              "<POLYGON ((8.328 48.232, 8.345 48.232, 8.345 48.264, 8.328 48.264, 8.328 48....>"
            ],
            "image/svg+xml": "<svg xmlns=\"http://www.w3.org/2000/svg\" xmlns:xlink=\"http://www.w3.org/1999/xlink\" width=\"100.0\" height=\"100.0\" viewBox=\"8.326455999999999 48.230686 0.02004800000000273 0.0341280000000026\" preserveAspectRatio=\"xMinYMin meet\"><g transform=\"matrix(1,0,0,-1,0,96.49549999999999)\"><path fill-rule=\"evenodd\" fill=\"#66cc99\" stroke=\"#555555\" stroke-width=\"0.0006825600000000521\" opacity=\"0.6\" d=\"M 8.32772,48.23195 L 8.34524,48.23195 L 8.34524,48.26355 L 8.32772,48.26355 L 8.32772,48.23195 z\" /></g></svg>"
          },
          "metadata": {},
          "execution_count": 92
        }
      ]
    },
    {
      "cell_type": "code",
      "source": [],
      "metadata": {
        "colab": {
          "base_uri": "https://localhost:8080/"
        },
        "id": "UsymkCzELbKz",
        "outputId": "b36908ba-5acf-48cb-afd4-247d3782c4c4"
      },
      "execution_count": 112,
      "outputs": [
        {
          "output_type": "execute_result",
          "data": {
            "text/plain": [
              "(8.32772, 48.23195)"
            ]
          },
          "metadata": {},
          "execution_count": 112
        }
      ]
    },
    {
      "cell_type": "code",
      "source": [],
      "metadata": {
        "id": "qZ6Pw1rZSVbJ"
      },
      "execution_count": null,
      "outputs": []
    }
  ]
}
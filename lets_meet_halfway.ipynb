{
  "nbformat": 4,
  "nbformat_minor": 0,
  "metadata": {
    "colab": {
      "provenance": [],
      "authorship_tag": "ABX9TyMbkk+dRhvByUuc/0nvwUYi",
      "include_colab_link": true
    },
    "kernelspec": {
      "name": "python3",
      "display_name": "Python 3"
    },
    "language_info": {
      "name": "python"
    }
  },
  "cells": [
    {
      "cell_type": "markdown",
      "metadata": {
        "id": "view-in-github",
        "colab_type": "text"
      },
      "source": [
        "<a href=\"https://colab.research.google.com/github/mikeornstein/lets-meet-halfway/blob/main/lets_meet_halfway.ipynb\" target=\"_parent\"><img src=\"https://colab.research.google.com/assets/colab-badge.svg\" alt=\"Open In Colab\"/></a>"
      ]
    },
    {
      "cell_type": "code",
      "source": [
        "!pip install descartes"
      ],
      "metadata": {
        "colab": {
          "base_uri": "https://localhost:8080/"
        },
        "id": "4yvqIIqrDhjr",
        "outputId": "215891a3-b986-4d75-defb-94d0806aafce"
      },
      "execution_count": 2,
      "outputs": [
        {
          "output_type": "stream",
          "name": "stdout",
          "text": [
            "Collecting descartes\n",
            "  Downloading descartes-1.1.0-py3-none-any.whl (5.8 kB)\n",
            "Requirement already satisfied: matplotlib in /usr/local/lib/python3.10/dist-packages (from descartes) (3.7.1)\n",
            "Requirement already satisfied: contourpy>=1.0.1 in /usr/local/lib/python3.10/dist-packages (from matplotlib->descartes) (1.2.0)\n",
            "Requirement already satisfied: cycler>=0.10 in /usr/local/lib/python3.10/dist-packages (from matplotlib->descartes) (0.12.1)\n",
            "Requirement already satisfied: fonttools>=4.22.0 in /usr/local/lib/python3.10/dist-packages (from matplotlib->descartes) (4.50.0)\n",
            "Requirement already satisfied: kiwisolver>=1.0.1 in /usr/local/lib/python3.10/dist-packages (from matplotlib->descartes) (1.4.5)\n",
            "Requirement already satisfied: numpy>=1.20 in /usr/local/lib/python3.10/dist-packages (from matplotlib->descartes) (1.25.2)\n",
            "Requirement already satisfied: packaging>=20.0 in /usr/local/lib/python3.10/dist-packages (from matplotlib->descartes) (24.0)\n",
            "Requirement already satisfied: pillow>=6.2.0 in /usr/local/lib/python3.10/dist-packages (from matplotlib->descartes) (9.4.0)\n",
            "Requirement already satisfied: pyparsing>=2.3.1 in /usr/local/lib/python3.10/dist-packages (from matplotlib->descartes) (3.1.2)\n",
            "Requirement already satisfied: python-dateutil>=2.7 in /usr/local/lib/python3.10/dist-packages (from matplotlib->descartes) (2.8.2)\n",
            "Requirement already satisfied: six>=1.5 in /usr/local/lib/python3.10/dist-packages (from python-dateutil>=2.7->matplotlib->descartes) (1.16.0)\n",
            "Installing collected packages: descartes\n",
            "Successfully installed descartes-1.1.0\n"
          ]
        }
      ]
    },
    {
      "cell_type": "code",
      "execution_count": 8,
      "metadata": {
        "id": "NsQV_LThAldp"
      },
      "outputs": [],
      "source": [
        "import requests\n",
        "import matplotlib.pyplot as plt\n",
        "from shapely.geometry import Polygon, mapping\n",
        "from descartes import PolygonPatch\n",
        "from google.colab import userdata\n",
        "\n",
        "# Define your API key for Open Route Service\n",
        "api_key = userdata.get('secretORS')\n",
        "\n",
        "# Define function to make request to Open Route Service API and get isochrone\n",
        "def get_isochrone(location, range_values):\n",
        "    url = f\"https://api.openrouteservice.org/v2/isochrones/driving-car\"\n",
        "    headers = {\"Authorization\": f\"Bearer {api_key}\"}\n",
        "    params = {\n",
        "        \"locations\": [location],\n",
        "        \"range\": range_values,\n",
        "        \"interval\": 600,\n",
        "        \"units\": \"m\",\n",
        "    }\n",
        "    response = requests.post(url, json=params, headers=headers)\n",
        "    if response.status_code == 200:\n",
        "        return response.json()\n",
        "    else:\n",
        "        print(\"Error:\", response.text)\n",
        "        return None\n",
        "\n",
        "# Define function to plot isochrone\n",
        "def plot_isochrone(location, isochrone):\n",
        "    plt.figure(figsize=(8, 8))\n",
        "    ax = plt.gca()\n",
        "\n",
        "    for feature in isochrone['features']:\n",
        "        polygon = Polygon(feature['geometry']['coordinates'][0])\n",
        "        patch = PolygonPatch(polygon, edgecolor='blue', facecolor='blue', alpha=0.3)\n",
        "        ax.add_patch(patch)\n",
        "\n",
        "    ax.set_aspect('equal')\n",
        "    plt.title(f'Isochrone around {location}')\n",
        "    plt.xlabel('Longitude')\n",
        "    plt.ylabel('Latitude')\n",
        "    plt.grid(True)\n",
        "    plt.show()\n",
        "\n",
        "def get_lat_lon_from_zip(zip_code, api_key):\n",
        "    url = f\"https://api.openrouteservice.org/geocode/search?api_key={api_key}&text={zip_code}\"\n",
        "    headers = {\"Accept\": \"application/json\"}\n",
        "    response = requests.get(url, headers=headers)\n",
        "    if response.status_code == 200:\n",
        "        data = response.json()\n",
        "        if data[\"features\"]:\n",
        "            lat = data[\"features\"][0][\"geometry\"][\"coordinates\"][1]\n",
        "            lon = data[\"features\"][0][\"geometry\"][\"coordinates\"][0]\n",
        "            return lat, lon\n",
        "        else:\n",
        "            print(\"No results found for the provided ZIP code.\")\n",
        "            return None\n",
        "    else:\n",
        "        print(\"Error:\", response.text)\n",
        "        return None"
      ]
    },
    {
      "cell_type": "code",
      "source": [],
      "metadata": {
        "colab": {
          "base_uri": "https://localhost:8080/"
        },
        "id": "fISh2CofDahZ",
        "outputId": "25ffd6e3-7051-4496-921e-68a6af9e383e"
      },
      "execution_count": 7,
      "outputs": [
        {
          "output_type": "stream",
          "name": "stdout",
          "text": [
            "Latitude: 34.100517, Longitude: -118.41463\n"
          ]
        }
      ]
    },
    {
      "cell_type": "code",
      "source": [
        "# Example usage:\n",
        "zip_code = \"90210\"  # Example ZIP code\n",
        "latitude, longitude = get_lat_lon_from_zip(zip_code, api_key)\n",
        "if latitude and longitude:\n",
        "    print(f\"Latitude: {latitude}, Longitude: {longitude}\")\n",
        "\n",
        "# Define your locations\n",
        "location1 = [lon1, lat1]  # coordinates of location 1, e.g., [longitude, latitude]\n",
        "location2 = [lon2, lat2]  # coordinates of location 2, e.g., [longitude, latitude]\n",
        "\n",
        "# Define the range values for isochrones (in seconds)\n",
        "range_values = [300, 600, 900]  # for example, 5, 10, and 15 minutes\n",
        "\n",
        "# Get isochrones for both locations\n",
        "isochrone_location1 = get_isochrone(location1, range_values)\n",
        "isochrone_location2 = get_isochrone(location2, range_values)\n",
        "\n",
        "# Plot isochrones\n",
        "if isochrone_location1:\n",
        "    plot_isochrone(\"Location 1\", isochrone_location1)\n",
        "\n",
        "if isochrone_location2:\n",
        "    plot_isochrone(\"Location 2\", isochrone_location2)\n"
      ],
      "metadata": {
        "id": "_7oSFW2FD-Xs"
      },
      "execution_count": null,
      "outputs": []
    }
  ]
}